{
 "cells": [
  {
   "cell_type": "code",
   "execution_count": 34,
   "id": "6bbab729-760f-4cfd-bba2-141844e6c273",
   "metadata": {},
   "outputs": [
    {
     "name": "stdout",
     "output_type": "stream",
     "text": [
      "Done\n"
     ]
    }
   ],
   "source": [
    "from operator import itemgetter\n",
    "import numpy as np\n",
    "import pandas as pd\n",
    "import requests\n",
    "from bs4 import BeautifulSoup\n",
    "print(\"Done\")"
   ]
  },
  {
   "cell_type": "code",
   "execution_count": null,
   "id": "ea2f9fe1-673d-4c8f-bff4-c54d633e201e",
   "metadata": {},
   "outputs": [],
   "source": [
    "#url = \"https://www.ambitionbox.com/list-of-companies?campaign=desktop_nav&page=1\"\n",
    "\n",
    "#headers = {'User-Agent': 'Mozilla/5.0 (iPad; CPU OS 12_2 like Mac OS X) AppleWebKit/605.1.15 (KHTML, like Gecko) Mobile/15E148'}\n",
    "#webpage = requests.get(url, headers = headers).text\n",
    "#webpage"
   ]
  },
  {
   "cell_type": "code",
   "execution_count": null,
   "id": "20b737c4-aaa3-4eb6-a01d-5398f184e152",
   "metadata": {
    "scrolled": true
   },
   "outputs": [],
   "source": [
    "#soup = BeautifulSoup(webpage, 'lxml')\n",
    "\n",
    "#print(soup.prettify())"
   ]
  },
  {
   "cell_type": "code",
   "execution_count": null,
   "id": "40e4f673-cab8-4b31-8958-6b96e85011ce",
   "metadata": {},
   "outputs": [],
   "source": [
    "#for i in soup.find_all('h2', class_ = \"companyCardWrapper__companyName\"):\n",
    " #   print(i.text.strip())\n"
   ]
  },
  {
   "cell_type": "code",
   "execution_count": null,
   "id": "f62de7cc-9e79-4506-aa99-1b471a075048",
   "metadata": {},
   "outputs": [],
   "source": [
    "#company = soup.find_all('div', class_=\"companyCardWrapper__primaryInformation\")"
   ]
  },
  {
   "cell_type": "code",
   "execution_count": 144,
   "id": "ad624ab2-71a8-472c-9364-1fc17fa2b461",
   "metadata": {},
   "outputs": [
    {
     "ename": "IndexError",
     "evalue": "list index out of range",
     "output_type": "error",
     "traceback": [
      "\u001b[1;31m---------------------------------------------------------------------------\u001b[0m",
      "\u001b[1;31mIndexError\u001b[0m                                Traceback (most recent call last)",
      "Cell \u001b[1;32mIn[144], line 56\u001b[0m\n\u001b[0;32m     54\u001b[0m tags \u001b[38;5;241m=\u001b[39m [items\u001b[38;5;241m.\u001b[39msplit(\u001b[38;5;124m'\u001b[39m\u001b[38;5;124m|\u001b[39m\u001b[38;5;124m'\u001b[39m) \u001b[38;5;28;01mfor\u001b[39;00m items \u001b[38;5;129;01min\u001b[39;00m tags]\n\u001b[0;32m     55\u001b[0m \u001b[38;5;28mtype\u001b[39m \u001b[38;5;241m=\u001b[39m Extract_type(tags)\n\u001b[1;32m---> 56\u001b[0m locations \u001b[38;5;241m=\u001b[39m Extract_locations(tags)\n\u001b[0;32m     58\u001b[0m d \u001b[38;5;241m=\u001b[39m {\u001b[38;5;124m'\u001b[39m\u001b[38;5;124mCompany Name\u001b[39m\u001b[38;5;124m'\u001b[39m: name, \u001b[38;5;124m'\u001b[39m\u001b[38;5;124mCompany Rating\u001b[39m\u001b[38;5;124m'\u001b[39m: rating, \u001b[38;5;124m'\u001b[39m\u001b[38;5;124mCompany Type\u001b[39m\u001b[38;5;124m'\u001b[39m: \u001b[38;5;28mtype\u001b[39m, \u001b[38;5;124m'\u001b[39m\u001b[38;5;124mCompany Locations\u001b[39m\u001b[38;5;124m'\u001b[39m: locations}\n\u001b[0;32m     59\u001b[0m \u001b[38;5;66;03m# Use concat to append data to final DataFrame\u001b[39;00m\n",
      "Cell \u001b[1;32mIn[144], line 7\u001b[0m, in \u001b[0;36mExtract_locations\u001b[1;34m(tags)\u001b[0m\n\u001b[0;32m      5\u001b[0m \u001b[38;5;28;01mif\u001b[39;00m \u001b[38;5;129;01mnot\u001b[39;00m tags:  \u001b[38;5;66;03m# Check for empty lists\u001b[39;00m\n\u001b[0;32m      6\u001b[0m     \u001b[38;5;28;01mreturn\u001b[39;00m []\n\u001b[1;32m----> 7\u001b[0m \u001b[38;5;28;01mif\u001b[39;00m \u001b[38;5;28mall\u001b[39m(itemgetter(\u001b[38;5;241m1\u001b[39m)(tag) \u001b[38;5;241m==\u001b[39m np\u001b[38;5;241m.\u001b[39mnan \u001b[38;5;28;01mfor\u001b[39;00m tag \u001b[38;5;129;01min\u001b[39;00m tags):\n\u001b[0;32m      8\u001b[0m   \u001b[38;5;28;01mreturn\u001b[39;00m \u001b[38;5;28;01mTrue\u001b[39;00m\n\u001b[0;32m      9\u001b[0m \u001b[38;5;28;01melse\u001b[39;00m:\n",
      "Cell \u001b[1;32mIn[144], line 7\u001b[0m, in \u001b[0;36m<genexpr>\u001b[1;34m(.0)\u001b[0m\n\u001b[0;32m      5\u001b[0m \u001b[38;5;28;01mif\u001b[39;00m \u001b[38;5;129;01mnot\u001b[39;00m tags:  \u001b[38;5;66;03m# Check for empty lists\u001b[39;00m\n\u001b[0;32m      6\u001b[0m     \u001b[38;5;28;01mreturn\u001b[39;00m []\n\u001b[1;32m----> 7\u001b[0m \u001b[38;5;28;01mif\u001b[39;00m \u001b[38;5;28mall\u001b[39m(itemgetter(\u001b[38;5;241m1\u001b[39m)(tag) \u001b[38;5;241m==\u001b[39m np\u001b[38;5;241m.\u001b[39mnan \u001b[38;5;28;01mfor\u001b[39;00m tag \u001b[38;5;129;01min\u001b[39;00m tags):\n\u001b[0;32m      8\u001b[0m   \u001b[38;5;28;01mreturn\u001b[39;00m \u001b[38;5;28;01mTrue\u001b[39;00m\n\u001b[0;32m      9\u001b[0m \u001b[38;5;28;01melse\u001b[39;00m:\n",
      "\u001b[1;31mIndexError\u001b[0m: list index out of range"
     ]
    }
   ],
   "source": [
    "\n",
    "\n",
    "def Extract_type(tags):\n",
    "    return list( map(itemgetter(0), tags))\n",
    "\n",
    "def Extract_locations(tags):\n",
    "  if not tags:  # Check for empty lists\n",
    "      return []\n",
    "  if all(itemgetter(1)(tag) == np.nan for tag in tags):\n",
    "    return True\n",
    "  else:\n",
    "    locations = []\n",
    "    for tag in tags:\n",
    "      try:\n",
    "        locations.append(itemgetter(1)(tag))\n",
    "      except IndexError:\n",
    "        locations.append(\"NA\")  # Replace with a default value for missing locations\n",
    "    return locations\n",
    "\n",
    "final = pd.DataFrame()\n",
    "for j in range (1, 10000):\n",
    "    url = \"https://www.ambitionbox.com/list-of-companies?campaign=desktop_nav&page={}\".format(j)\n",
    "    headers = {'User-Agent': 'Mozilla/5.0 (iPad; CPU OS 12_2 like Mac OS X) AppleWebKit/605.1.15 (KHTML, like Gecko) Mobile/15E148'}\n",
    "    webpage = requests.get(url, headers = headers).text\n",
    "    soup = BeautifulSoup(webpage, 'lxml')\n",
    "    company = soup.find_all('div', class_=\"companyCardWrapper__primaryInformation\")\n",
    "\n",
    "    name= []\n",
    "    tags = [] #It contains data about the type of company and locations of the company\n",
    "    type = [] #Will be stored from the \"tags\" list.\n",
    "    locations = [] #Will be stored from the \"tags\" lsit.\n",
    "    rating = []\n",
    "\n",
    "    for i in company:\n",
    "        #name.append(i.find('h2', class_= \"companyCardWrapper__companyName\").text.strip())\n",
    "        #tags.append(i.find('span', class_=\"\").text.strip())\n",
    "        #rating.append(i.find('span', class_=\"companyCardWrapper__companyRatingValue\").text.strip())\n",
    "\n",
    "\n",
    "        try:\n",
    "           name.append(i.find('h2', class_= \"companyCardWrapper__companyName\").text.strip())\n",
    "        except:\n",
    "           name.append(np.nan)\n",
    "    \n",
    "        try:\n",
    "           rating.append(i.find('span',class_=\"companyCardWrapper__companyRatingValue\").text.strip())\n",
    "        except:\n",
    "           rating.append(np.nan)\n",
    "       \n",
    "        try:\n",
    "          tags.append(i.find('span' , class_=\"companyCardWrapper__interLinking\").text.strip())\n",
    "        except:\n",
    "          tags.append(np.nan)\n",
    "    \n",
    "\n",
    "    tags = [items.split('|') for items in tags]\n",
    "    type = Extract_type(tags)\n",
    "    locations = Extract_locations(tags)\n",
    "   \n",
    "    d = {'Company Name': name, 'Company Rating': rating, 'Company Type': type, 'Company Locations': locations}\n",
    "    # Use concat to append data to final DataFrame\n",
    "    final = pd.concat([final, pd.DataFrame(d)], ignore_index=True, sort=False)\n",
    "\n",
    "\n",
    "# P.S. : \n",
    "# I am getting an error when I am tring to access 1180th row, and till that I am able to scrape the data\n",
    "# I am still a beginner at this point, so I am not able to solve this, error\n",
    "# But I will try to solve this again, once I more experienced with it.\n"
   ]
  },
  {
   "cell_type": "code",
   "execution_count": 147,
   "id": "6f30f69a-8199-48e8-a15a-c576ee90ff79",
   "metadata": {},
   "outputs": [
    {
     "data": {
      "text/plain": [
       "(1180, 4)"
      ]
     },
     "execution_count": 147,
     "metadata": {},
     "output_type": "execute_result"
    }
   ],
   "source": [
    "final.shape"
   ]
  },
  {
   "cell_type": "code",
   "execution_count": 145,
   "id": "7ee8b029-120c-433f-8328-5d2e8d12ff36",
   "metadata": {},
   "outputs": [],
   "source": [
    "final.to_csv(\"Ambition_Box_Data_Web_Scraping.csv\")"
   ]
  },
  {
   "cell_type": "code",
   "execution_count": null,
   "id": "7e8049ed-8522-4a05-8f88-5c902e783293",
   "metadata": {
    "scrolled": true
   },
   "outputs": [],
   "source": [
    "#tags = [items.split('|') for items in tags]"
   ]
  },
  {
   "cell_type": "code",
   "execution_count": null,
   "id": "3ae2a757-4b22-4cff-a9b7-6d929e472589",
   "metadata": {
    "scrolled": true
   },
   "outputs": [],
   "source": [
    "#tags"
   ]
  },
  {
   "cell_type": "code",
   "execution_count": null,
   "id": "e0e0380e-0e6e-4e24-9046-3bb1f9840e34",
   "metadata": {},
   "outputs": [],
   "source": [
    "#def Extract0(tags):\n",
    "#    return list( map(itemgetter(0), tags ))\n",
    "\n",
    "#def Extract1(tags):\n",
    "#    return list( map(itemgetter(1), tags ))"
   ]
  },
  {
   "cell_type": "code",
   "execution_count": null,
   "id": "8068641f-44e8-4549-8d56-021632b3d7e1",
   "metadata": {},
   "outputs": [],
   "source": [
    "#type = Extract0(tags)\n",
    "#location = Extract1(tags)"
   ]
  },
  {
   "cell_type": "code",
   "execution_count": null,
   "id": "89571881-61f0-4aad-b239-e84bac51e984",
   "metadata": {},
   "outputs": [],
   "source": [
    "#location "
   ]
  },
  {
   "cell_type": "code",
   "execution_count": null,
   "id": "8a374092-ca8b-4f71-82ed-d6dd996a68c5",
   "metadata": {},
   "outputs": [],
   "source": []
  },
  {
   "cell_type": "code",
   "execution_count": null,
   "id": "5845fab9-9945-4fc5-9aee-83a65fdfacc9",
   "metadata": {},
   "outputs": [],
   "source": []
  }
 ],
 "metadata": {
  "kernelspec": {
   "display_name": "Python 3 (ipykernel)",
   "language": "python",
   "name": "python3"
  },
  "language_info": {
   "codemirror_mode": {
    "name": "ipython",
    "version": 3
   },
   "file_extension": ".py",
   "mimetype": "text/x-python",
   "name": "python",
   "nbconvert_exporter": "python",
   "pygments_lexer": "ipython3",
   "version": "3.11.7"
  }
 },
 "nbformat": 4,
 "nbformat_minor": 5
}
